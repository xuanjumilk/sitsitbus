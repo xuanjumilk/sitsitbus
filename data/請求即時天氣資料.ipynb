{
 "cells": [
  {
   "cell_type": "code",
   "execution_count": null,
   "id": "d83c625b-09ae-43e7-850a-2992b7d9a4ca",
   "metadata": {},
   "outputs": [],
   "source": [
    "#請求即時天氣資料\n",
    "import requests\n",
    "import pandas as pd\n",
    "\n",
    "# 正確使用 O-A0003-001（自動氣象觀測站）\n",
    "url = \"https://opendata.cwa.gov.tw/api/v1/rest/datastore/O-A0003-001\"\n",
    "params = {\n",
    "    \"Authorization\": \"CWA-6B8DAD3F-CB9C-412F-A69C-9E41A3BD9C97\",\n",
    "    \"format\": \"JSON\"\n",
    "}\n",
    "\n",
    "response = requests.get(url, params=params)\n",
    "data = response.json()\n",
    "\n",
    "# 正確地抓 records[\"Station\"]\n",
    "stations = data[\"records\"][\"Station\"]\n",
    "\n",
    "# 過濾出「臺灣大學」\n",
    "ntu_rows = [s for s in stations if \"臺灣大學\" in s[\"StationName\"]]\n",
    "\n",
    "# 轉成 DataFrame 並輸出\n",
    "if ntu_rows:\n",
    "    df = pd.DataFrame(ntu_rows)\n",
    "    df.to_excel(\"臺灣大學_最新觀測資料.xlsx\", index=False, engine=\"openpyxl\")\n",
    "    df.to_csv(\"臺灣大學_最新觀測資料.csv\", index=False, encoding=\"utf-8-sig\")\n",
    "    print(\"✅ 成功儲存臺灣大學觀測資料！\")\n",
    "else:\n",
    "    print(\"❌ 沒找到『臺灣大學』的觀測資料\")"
   ]
  }
 ],
 "metadata": {
  "kernelspec": {
   "display_name": "Python [conda env:base] *",
   "language": "python",
   "name": "conda-base-py"
  },
  "language_info": {
   "codemirror_mode": {
    "name": "ipython",
    "version": 3
   },
   "file_extension": ".py",
   "mimetype": "text/x-python",
   "name": "python",
   "nbconvert_exporter": "python",
   "pygments_lexer": "ipython3",
   "version": "3.12.7"
  }
 },
 "nbformat": 4,
 "nbformat_minor": 5
}
