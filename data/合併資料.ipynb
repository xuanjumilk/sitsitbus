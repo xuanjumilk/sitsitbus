{
 "cells": [
  {
   "cell_type": "code",
   "execution_count": null,
   "id": "c0ab38c3-932d-4fd4-9f72-0879c2ab38e3",
   "metadata": {},
   "outputs": [],
   "source": [
    "import pandas as pd\n",
    "import numpy as np\n",
    "#合併\n",
    "# 1. 載入資料\n",
    "df_est = pd.read_csv(\"C:\\\\Users\\\\欲合併檔名1.csv\")\n",
    "df_actual = pd.read_csv(\"C:\\\\Users\\\\欲合併檔名2.csv\")\n",
    "\n",
    "# 2. 時間欄位轉換（移除時區）\n",
    "df_est['ESTSrcUpdateTime'] = pd.to_datetime(df_est['ESTSrcUpdateTime']).dt.tz_localize(None)\n",
    "df_actual['ActualTime'] = pd.to_datetime(df_actual['SrcUpdateTime']).dt.tz_localize(None)\n",
    "\n",
    "# ✅ 3. 方向欄位轉換（去程=0，回程=1，其它設為-1 並刪除）\n",
    "df_actual['Direction'] = np.where(\n",
    "    df_actual['Direction'] == '去程', 0,\n",
    "    np.where(df_actual['Direction'] == '回程', 1, -1)\n",
    ")\n",
    "df_actual = df_actual[df_actual['Direction'] != -1]\n",
    "\n",
    "# ✅ 4. 強制方向欄位型別一致（int64）\n",
    "df_actual['Direction'] = df_actual['Direction'].astype('int64')\n",
    "df_est['arrDirection'] = df_est['arrDirection'].astype('int64')\n",
    "\n",
    "# 5. 排序時間欄位（merge_asof 的必要條件）\n",
    "df_est = df_est.sort_values('ESTSrcUpdateTime')\n",
    "df_actual = df_actual.sort_values('ActualTime')\n",
    "\n",
    "# 6. 合併：以預估資料為主，加上實際到站時間（15分鐘容忍範圍）\n",
    "df_est = pd.merge_asof(\n",
    "    df_est,\n",
    "    df_actual[['PlateNumb', 'StopUID', 'Direction', 'ActualTime']],\n",
    "    left_by=['PlateNumb', 'arrStopUID', 'arrDirection'],\n",
    "    right_by=['PlateNumb', 'StopUID', 'Direction'],\n",
    "    left_on='ESTSrcUpdateTime',\n",
    "    right_on='ActualTime',\n",
    "    direction='forward',\n",
    "    tolerance=pd.Timedelta('15m')\n",
    ")\n",
    "\n",
    "# 7. 建立新欄位：真實剩餘秒數\n",
    "df_est['true_arrival_sec'] = (df_est['ActualTime'] - df_est['ESTSrcUpdateTime']).dt.total_seconds()\n",
    "\n",
    "# 8. 移除不合理值（負數或過久）\n",
    "df_est = df_est[(df_est['true_arrival_sec'] > 0) & (df_est['true_arrival_sec'] < 900)]\n",
    "\n",
    "# 9. 儲存合併結果（選擇性）\n",
    "df_est.to_csv(\"C:\\\\Users\\\\檔名.csv\", index=False)"
   ]
  }
 ],
 "metadata": {
  "kernelspec": {
   "display_name": "Python [conda env:base] *",
   "language": "python",
   "name": "conda-base-py"
  },
  "language_info": {
   "codemirror_mode": {
    "name": "ipython",
    "version": 3
   },
   "file_extension": ".py",
   "mimetype": "text/x-python",
   "name": "python",
   "nbconvert_exporter": "python",
   "pygments_lexer": "ipython3",
   "version": "3.12.7"
  }
 },
 "nbformat": 4,
 "nbformat_minor": 5
}
