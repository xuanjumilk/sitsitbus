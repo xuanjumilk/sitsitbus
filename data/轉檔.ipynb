{
 "cells": [
  {
   "cell_type": "code",
   "execution_count": null,
   "id": "ca7aff28-e91c-4dc8-bb44-b0b55159f660",
   "metadata": {},
   "outputs": [],
   "source": [
    "import sqlite3\n",
    "# 連接 SQLite 資料庫\n",
    "source_db = '檔名.db'\n",
    "output_sql_file = '檔名.sql'\n",
    "\n",
    "# 開啟 SQLite 資料庫\n",
    "conn = sqlite3.connect(source_db)\n",
    "cursor = conn.cursor()\n",
    "\n",
    "# 開啟 SQL 檔案，準備寫入\n",
    "with open(output_sql_file, 'w', encoding='utf-8') as f:\n",
    "    # 寫入創建資料庫結構的部分\n",
    "    for line in conn.iterdump():\n",
    "        f.write(f'{line}\\n')\n",
    "\n",
    "# 關閉連接\n",
    "conn.close()\n",
    "\n",
    "print(f\"資料庫已成功匯出為 {output_sql_file}\")"
   ]
  }
 ],
 "metadata": {
  "kernelspec": {
   "display_name": "Python [conda env:base] *",
   "language": "python",
   "name": "conda-base-py"
  },
  "language_info": {
   "codemirror_mode": {
    "name": "ipython",
    "version": 3
   },
   "file_extension": ".py",
   "mimetype": "text/x-python",
   "name": "python",
   "nbconvert_exporter": "python",
   "pygments_lexer": "ipython3",
   "version": "3.12.7"
  }
 },
 "nbformat": 4,
 "nbformat_minor": 5
}
