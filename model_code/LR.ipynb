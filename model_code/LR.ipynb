{
 "cells": [
  {
   "cell_type": "code",
   "execution_count": null,
   "id": "f39434d8-2593-4881-98b5-fde3e29bce6a",
   "metadata": {},
   "outputs": [],
   "source": [
    "import pandas as pd\n",
    "import numpy as np\n",
    "from sklearn.linear_model import LinearRegression\n",
    "from sklearn.model_selection import train_test_split\n",
    "from sklearn.metrics import mean_absolute_error, mean_squared_error, r2_score\n",
    "df = pd.read_csv(r\"C:\\Users\\檔名.csv\")  # 或 pd.read_pickle('your_data.pkl')"
   ]
  },
  {
   "cell_type": "code",
   "execution_count": null,
   "id": "b66b066c-9a55-4c2f-9f2c-231c2039d686",
   "metadata": {},
   "outputs": [],
   "source": [
    "from geopy.distance import geodesic\n",
    "\n",
    "# 使用官方提供的師大綜合大樓站牌座標\n",
    "target_lat, target_lon = 25.026622, 121.53006  # 注意：緯度在前，經度在後\n",
    "\n",
    "# 加入距離欄位（單位：公尺）\n",
    "df['Distance'] = df.apply(\n",
    "    lambda row: geodesic((row['PositionLat'], row['PositionLon']), (target_lat, target_lon)).meters\n",
    "    if pd.notnull(row['PositionLat']) and pd.notnull(row['PositionLon']) else np.nan,\n",
    "    axis=1\n",
    ")"
   ]
  },
  {
   "cell_type": "code",
   "execution_count": null,
   "id": "bb1bfdaf-df88-4c00-a5c1-b109522be72a",
   "metadata": {},
   "outputs": [],
   "source": [
    "# 把 e_time 轉成 datetime 格式\n",
    "df['e_time'] = pd.to_datetime(df['e_time'])\n",
    "\n",
    "# 拆出時間特徵\n",
    "df['Hour'] = df['e_time'].dt.hour\n",
    "df['Minute'] = df['e_time'].dt.minute\n",
    "df['Weekday'] = df['e_time'].dt.weekday"
   ]
  },
  {
   "cell_type": "code",
   "execution_count": null,
   "id": "701f9e59-0832-4a91-b836-91b1c01cf12f",
   "metadata": {},
   "outputs": [],
   "source": [
    "# 假設你的 DataFrame 名叫 df\n",
    "df_filtered = df[df['Distance'] <= 20000].copy()"
   ]
  },
  {
   "cell_type": "code",
   "execution_count": null,
   "id": "a247d700-8aff-4593-b08e-26d247a40707",
   "metadata": {},
   "outputs": [],
   "source": [
    "# 先過濾 true_arrival_sec < 5000 的資料\n",
    "df_limited = df_filtered[df_filtered['true_arrival_sec'] < 5000]\n",
    "\n",
    "# 模型 A（含 EstimateTime）\n",
    "feature_cols_A = ['Speed', 'rt_delay_sec', 'Hour', 'Minute', 'Weekday', \n",
    "                  'peak', 'daytype', 'rain', 'temp', 'wind', 'EstimateTime']\n",
    "X_A = df_limited[feature_cols_A]\n",
    "y_A = df_limited['true_arrival_sec']\n",
    "\n",
    "# 模型 B（不含 EstimateTime）\n",
    "feature_cols_B = ['Speed', 'rt_delay_sec', 'Distance', 'Hour', 'Minute', 'Weekday', \n",
    "                  'peak', 'daytype', 'rain', 'temp', 'wind']\n",
    "X_B = df_limited[feature_cols_B]\n",
    "y_B = df_limited['true_arrival_sec']"
   ]
  },
  {
   "cell_type": "code",
   "execution_count": null,
   "id": "b9a6c82d-3794-4bea-91c4-3b1b13b98707",
   "metadata": {
    "scrolled": true
   },
   "outputs": [],
   "source": [
    "from sklearn.linear_model import LinearRegression\n",
    "from sklearn.model_selection import train_test_split\n",
    "from sklearn.metrics import mean_absolute_error, mean_squared_error, r2_score\n",
    "import numpy as np\n",
    "\n",
    "def run_lr_model(X, y, feature_names, model_name):\n",
    "    maes, rmses, r2s, models = [], [], [], []\n",
    "\n",
    "    for i in range(20):\n",
    "        X_train, X_test, y_train, y_test = train_test_split(\n",
    "            X, y, test_size=0.2, shuffle=True, random_state=i\n",
    "        )\n",
    "\n",
    "        model = LinearRegression()\n",
    "        model.fit(X_train, y_train)\n",
    "        y_pred = model.predict(X_test)\n",
    "\n",
    "        maes.append(mean_absolute_error(y_test, y_pred))\n",
    "        rmses.append(np.sqrt(mean_squared_error(y_test, y_pred)))\n",
    "        r2s.append(r2_score(y_test, y_pred))\n",
    "        models.append(model)\n",
    "\n",
    "    # 計算平均與找出最接近平均的那次\n",
    "    avg_mae, avg_rmse, avg_r2 = np.mean(maes), np.mean(rmses), np.mean(r2s)\n",
    "    distances = [(mae - avg_mae)**2 + (rmse - avg_rmse)**2 + (r2 - avg_r2)**2\n",
    "                 for mae, rmse, r2 in zip(maes, rmses, r2s)]\n",
    "    best_index = int(np.argmin(distances))\n",
    "    best_model = models[best_index]\n",
    "\n",
    "    # 印出結果\n",
    "    print(f\"\\n📘 {model_name}：\")\n",
    "    print(f\"平均 MAE: {avg_mae:.2f} ± {np.std(maes):.2f}\")\n",
    "    print(f\"平均 RMSE: {avg_rmse:.2f} ± {np.std(rmses):.2f}\")\n",
    "    print(f\"平均 R²: {avg_r2:.4f} ± {np.std(r2s):.4f}\")\n",
    "    print(f\"\\n🔍 最佳模型係數與截距（第 {best_index} 次）：\")\n",
    "    for name, coef in zip(feature_names, best_model.coef_):\n",
    "        print(f\"{name}: {coef:.2f}\")\n",
    "    print(f\"截距（intercept）: {best_model.intercept_:.2f}\")\n",
    "    \n",
    "# 執行模型 A\n",
    "run_lr_model(X_A, y, feature_cols_A, \"Linear Regression 模型 A（含 EstimateTime）\")\n",
    "\n",
    "# 執行模型 B\n",
    "run_lr_model(X_B, y, feature_cols_B, \"Linear Regression 模型 B（不含 EstimateTime）\")\n"
   ]
  },
  {
   "cell_type": "code",
   "execution_count": null,
   "id": "05317706-8739-4c32-a9ef-1d9f148ab808",
   "metadata": {},
   "outputs": [],
   "source": [
    "# 模型 A 的係數與截距\n",
    "print(\"\\n📘 模型 A 係數：\")\n",
    "for name, coef in zip(feature_cols_A, lr_A.coef_):\n",
    "    print(f\"{name}: {coef:.2f}\")\n",
    "print(f\"截距（intercept）: {lr_A.intercept_:.2f}\")\n",
    "\n",
    "# 模型 B 的係數與截距\n",
    "print(\"\\n📙 模型 B 係數：\")\n",
    "for name, coef in zip(feature_cols_B, lr_B.coef_):\n",
    "    print(f\"{name}: {coef:.2f}\")\n",
    "print(f\"截距（intercept）: {lr_B.intercept_:.2f}\")"
   ]
  },
  {
   "cell_type": "code",
   "execution_count": null,
   "id": "d7c2aea8-ec6d-4b0f-b4fe-c9e0ada4bc35",
   "metadata": {},
   "outputs": [],
   "source": [
    "import statsmodels.api as sm\n",
    "from statsmodels.stats.outliers_influence import variance_inflation_factor\n",
    "# 加入常數項\n",
    "X_with_const = sm.add_constant(X_A)\n",
    "\n",
    "# 計算每個特徵的 VIF 值\n",
    "vif = pd.DataFrame()\n",
    "vif[\"feature\"] = X_A.columns\n",
    "vif[\"VIF\"] = [variance_inflation_factor(X_with_const.values, i+1) for i in range(X_A.shape[1])]\n",
    "\n",
    "print(vif.sort_values(by=\"VIF\", ascending=False))\n",
    "\n",
    "# 加入常數項\n",
    "X_with_const = sm.add_constant(X_B)\n",
    "\n",
    "# 計算每個特徵的 VIF 值\n",
    "vif = pd.DataFrame()\n",
    "vif[\"feature\"] = X_B.columns\n",
    "vif[\"VIF\"] = [variance_inflation_factor(X_with_const.values, i+1) for i in range(X_B.shape[1])]\n",
    "\n",
    "print(vif.sort_values(by=\"VIF\", ascending=False))"
   ]
  },
  {
   "cell_type": "code",
   "execution_count": null,
   "id": "f4953bd3-a557-480d-8a86-345d8bb57bb6",
   "metadata": {},
   "outputs": [],
   "source": [
    "import seaborn as sns\n",
    "import matplotlib.pyplot as plt\n",
    "\n",
    "# 計算相關係數\n",
    "corr_matrix = X_A.corr()\n",
    "\n",
    "# 畫出 heatmap\n",
    "plt.figure(figsize=(10, 8))\n",
    "sns.heatmap(corr_matrix, annot=True, cmap='coolwarm', fmt=\".2f\", linewidths=0.5)\n",
    "plt.title(\"特徵之間的相關性矩陣\")\n",
    "plt.show()"
   ]
  },
  {
   "cell_type": "code",
   "execution_count": null,
   "id": "1fcada05-e3d9-4940-881f-6545ff796f14",
   "metadata": {},
   "outputs": [],
   "source": [
    "# 模型 A\n",
    "r2 = r2_score(y_test_A, y_pred_A)\n",
    "n = X_test_A.shape[0]\n",
    "p = X_test_A.shape[1]\n",
    "\n",
    "r2_adj = 1 - (1 - r2) * (n - 1) / (n - p - 1)\n",
    "print(f\"模型 A Adjusted R²: {r2_adj:.4f}\")\n",
    "\n",
    "# 模型 B\n",
    "r2 = r2_score(y_test_B, y_pred_B)\n",
    "n = X_test_B.shape[0]\n",
    "p = X_test_B.shape[1]\n",
    "\n",
    "r2_adj = 1 - (1 - r2) * (n - 1) / (n - p - 1)\n",
    "print(f\"模型 B Adjusted R²: {r2_adj:.4f}\")\n"
   ]
  },
  {
   "cell_type": "code",
   "execution_count": null,
   "id": "cbcdcc92-3c47-4c11-afaa-6c182cc07455",
   "metadata": {},
   "outputs": [],
   "source": [
    "import joblib\n",
    "joblib.dump(X_test_A, r'C:\\Users\\欲存成檔名.pkl')\n",
    "joblib.dump(X_test_B, r'C:\\Users\\欲存成檔名.pkl')"
   ]
  }
 ],
 "metadata": {
  "kernelspec": {
   "display_name": "Python [conda env:base] *",
   "language": "python",
   "name": "conda-base-py"
  },
  "language_info": {
   "codemirror_mode": {
    "name": "ipython",
    "version": 3
   },
   "file_extension": ".py",
   "mimetype": "text/x-python",
   "name": "python",
   "nbconvert_exporter": "python",
   "pygments_lexer": "ipython3",
   "version": "3.12.7"
  }
 },
 "nbformat": 4,
 "nbformat_minor": 5
}
